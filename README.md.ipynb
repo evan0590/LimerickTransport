{
 "cells": [
  {
   "cell_type": "markdown",
   "metadata": {},
   "source": [
    "# Limerick & Mid-West Travel Information\n",
    "\n",
    "This application allows users to view information related to air, rail, bus and bike transport services in Limerick and the wider Mid-Western region on an interactive Google Map. Information is gathered from various APIs and data sources and presented in tabular format upon a user clicking on a marker.\n",
    "\n",
    "- Airport data is gathered using the API supplied by Aviation Stack:<br>https://aviationstack.com/.\n",
    "- Rail data is gathered using the official Irish Rail API:<br>http://api.irishrail.ie/realtime/index.htm?realtime_irishrail.\n",
    "- Bus data is gathered and presented using Ireland's GTFS dataset, which may be downloaded from this link:<br>https://www.transportforireland.ie/transitData/google_transit_combined.zip.\n",
    "- Bikeshare station data is gathered using the Coca-Cola Bike Share API:<br>https://data.bikeshare.ie/dataapi/resources/station/data/list.\n",
    "\n",
    "The airport and bikeshare station data each require an API key to be accessed. These can be acquired by requesting one from each of the following:<br>\n",
    "<tb>- https://aviationstack.com/signup/free<br>\n",
    "<tb>- https://www.bikeshare.ie/contact-us.html<br>\n",
    "Each of these APIs are subject to strict usage limits, so in order to ensure that these limits are remained within at all times scraper scripts are used to acquire all required information. These scripts are designed to be executed regularly using a scheduler such as cron."
   ]
  },
  {
   "cell_type": "code",
   "execution_count": null,
   "metadata": {},
   "outputs": [],
   "source": []
  }
 ],
 "metadata": {
  "kernelspec": {
   "display_name": "Python 3",
   "language": "python",
   "name": "python3"
  },
  "language_info": {
   "codemirror_mode": {
    "name": "ipython",
    "version": 3
   },
   "file_extension": ".py",
   "mimetype": "text/x-python",
   "name": "python",
   "nbconvert_exporter": "python",
   "pygments_lexer": "ipython3",
   "version": "3.7.9"
  }
 },
 "nbformat": 4,
 "nbformat_minor": 4
}
